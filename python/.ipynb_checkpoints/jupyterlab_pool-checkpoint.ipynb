{
 "cells": [
  {
   "cell_type": "markdown",
   "metadata": {},
   "source": [
    "# Notebook to Fit Spectra"
   ]
  },
  {
   "cell_type": "markdown",
   "metadata": {},
   "source": [
    "## Load Libraries"
   ]
  },
  {
   "cell_type": "code",
   "execution_count": 1,
   "metadata": {},
   "outputs": [],
   "source": [
    "from multiprocessing import Pool, cpu_count"
   ]
  },
  {
   "cell_type": "code",
   "execution_count": 2,
   "metadata": {},
   "outputs": [
    {
     "name": "stdout",
     "output_type": "stream",
     "text": [
      "NCPU available =  8\n"
     ]
    }
   ],
   "source": [
    "# Find out how many cpus you have\n",
    "num_cpus = cpu_count()\n",
    "print('NCPU available = ',num_cpus)\n"
   ]
  },
  {
   "cell_type": "markdown",
   "metadata": {},
   "source": [
    "Make a dummy function that we can send to the workers in the pool. \n",
    "Returns a sum of val with itself, however that is defined for val"
   ]
  },
  {
   "cell_type": "code",
   "execution_count": 3,
   "metadata": {},
   "outputs": [],
   "source": [
    "def printer(val):\n",
    "    step=0\n",
    "    #Something that takes actual \"computing time\", so one can \n",
    "    #check in system monitor that all cpus are actually working\n",
    "    for i in range(10**6): \n",
    "        step+=1\n",
    "    print('The input is: ', val)\n",
    "    return val+val\n"
   ]
  },
  {
   "cell_type": "code",
   "execution_count": 4,
   "metadata": {},
   "outputs": [
    {
     "name": "stdout",
     "output_type": "stream",
     "text": [
      "The input is: The input is:   [0, 1, 2, 3, 4, 5, 6, 7][10, 11, 12, 13, 14, 15, 16, 17]\n",
      "The input is: The input is: \n",
      " The input is:  [30, 31, 32, 33, 34, 35, 36, 37]The input is: [40, 41, 42, 43, 44, 45, 46, 47] \n",
      "\n",
      "[50, 51, 52, 53, 54, 55, 56, 57] \n",
      "[20, 21, 22, 23, 24, 25, 26, 27]\n",
      "The input is:  [70, 71, 72, 73, 74, 75, 76, 77]\n",
      "The input is:  [60, 61, 62, 63, 64, 65, 66, 67]\n"
     ]
    }
   ],
   "source": [
    "# Make the pool object\n",
    "p = Pool(processes=num_cpus)\n",
    "# Make some input to map out to the workers\n",
    "nums_to_print = range(num_cpus)\n",
    "M = [[i*10+j for j in range(num_cpus)] for i in range(num_cpus)]\n"
   ]
  },
  {
   "cell_type": "markdown",
   "metadata": {},
   "source": [
    "### EXAMPLE 1\n",
    "Input is a matrix, each thread is assigned a column"
   ]
  },
  {
   "cell_type": "code",
   "execution_count": 5,
   "metadata": {},
   "outputs": [
    {
     "name": "stdout",
     "output_type": "stream",
     "text": [
      "\n",
      "Ex.1 results = \n",
      "[[0, 1, 2, 3, 4, 5, 6, 7, 0, 1, 2, 3, 4, 5, 6, 7], [10, 11, 12, 13, 14, 15, 16, 17, 10, 11, 12, 13, 14, 15, 16, 17], [20, 21, 22, 23, 24, 25, 26, 27, 20, 21, 22, 23, 24, 25, 26, 27], [30, 31, 32, 33, 34, 35, 36, 37, 30, 31, 32, 33, 34, 35, 36, 37], [40, 41, 42, 43, 44, 45, 46, 47, 40, 41, 42, 43, 44, 45, 46, 47], [50, 51, 52, 53, 54, 55, 56, 57, 50, 51, 52, 53, 54, 55, 56, 57], [60, 61, 62, 63, 64, 65, 66, 67, 60, 61, 62, 63, 64, 65, 66, 67], [70, 71, 72, 73, 74, 75, 76, 77, 70, 71, 72, 73, 74, 75, 76, 77]] \n",
      "\n"
     ]
    }
   ],
   "source": [
    "#Synchronous exectuion, later code inexecutable before all workers ready\n",
    "#results = p.map(printer, nums_to_print)\n",
    "results = p.map(printer, M)\n",
    "\n",
    "#The asynchronous version has some further features.\n",
    "#results = p.map_async(printer, nums_to_print)\n",
    "#print('Results ready = ',results.ready())  #True if all workers finished\n",
    "#print(results.successful())  #True if all workers successful\n",
    "# To actually retrieve the result from the async result object, use get\n",
    "#results = results.get()\n",
    "\n",
    "print('\\nEx.1 results = ')\n",
    "print(results,'\\n')\n"
   ]
  },
  {
   "cell_type": "markdown",
   "metadata": {},
   "source": [
    "### EXAMPLE 2\n",
    "Each thread is assigned the same matrix"
   ]
  },
  {
   "cell_type": "code",
   "execution_count": 6,
   "metadata": {},
   "outputs": [
    {
     "name": "stdout",
     "output_type": "stream",
     "text": [
      "The input is: The input is: The input is:   [[0, 1, 2], [10, 11, 12], [20, 21, 22]] [[0, 1, 2], [10, 11, 12], [20, 21, 22]][[0, 1, 2], [10, 11, 12], [20, 21, 22]]\n",
      "\n",
      "\n",
      "\n",
      "Ex.2 results[ 0 ] = \n",
      "[[0, 1, 2], [10, 11, 12], [20, 21, 22], [0, 1, 2], [10, 11, 12], [20, 21, 22]] \n",
      "\n",
      "\n",
      "Ex.2 results[ 1 ] = \n",
      "[[0, 1, 2], [10, 11, 12], [20, 21, 22], [0, 1, 2], [10, 11, 12], [20, 21, 22]] \n",
      "\n",
      "\n",
      "Ex.2 results[ 2 ] = \n",
      "[[0, 1, 2], [10, 11, 12], [20, 21, 22], [0, 1, 2], [10, 11, 12], [20, 21, 22]] \n",
      "\n",
      "Original input object remains unmodified:\n",
      "[[0, 1, 2], [10, 11, 12], [20, 21, 22]]\n"
     ]
    }
   ],
   "source": [
    "usecpus=3 #Don't use all cpus, simple output is easy to print\n",
    "\n",
    "p2 = Pool(processes=usecpus)\n",
    "M2 = [[i*10+j for j in range(usecpus)] for i in range(usecpus)]\n",
    "\n",
    "\n",
    "#Synchronous exectuion, later code inexecutable before all workers ready\n",
    "results2 = p2.map(printer, [M2 for _ in range(usecpus)])\n",
    "\n",
    "for i in range(len(results2)):\n",
    "    print('\\nEx.2 results[',i,'] = ')\n",
    "    print(results2[i],'\\n')\n",
    "\n",
    "print('Original input object remains unmodified:')\n",
    "print(M2)\n"
   ]
  },
  {
   "cell_type": "markdown",
   "metadata": {},
   "source": [
    "### Example 3: too many processes vs Ncpu\n",
    "\n",
    "Let's run a function printing a single number, going through a large vector either linearly or by assigning each element a thread of it's own. The smart way to do this would be to divide the vector into Ncpu parts and run over them in parallel with a simple algorithm, but let's see how much we lose with a naive too-many-threads approach."
   ]
  },
  {
   "cell_type": "code",
   "execution_count": null,
   "metadata": {},
   "outputs": [],
   "source": [
    "#%%time\n",
    "#\n",
    "## Simple linear printing\n",
    "#Nhuge=50\n",
    "#results3a=[printer(i) for i in range(Nhuge)]\n",
    "#\n",
    "#### The below implementation would actually crash due to \"too many open files\" \n",
    "#### = presumably trying to instantiate too many threads\n",
    "#\n",
    "## Make the pool object\n",
    "#p3 = Pool(processes=Nhuge)\n",
    "## Make some input to map out to the workers\n",
    "#lotsOfNumbers = range(Nhuge)\n",
    "#results2 = p3.map(printer, lotsOfNumbers)"
   ]
  },
  {
   "cell_type": "code",
   "execution_count": null,
   "metadata": {},
   "outputs": [],
   "source": []
  }
 ],
 "metadata": {
  "kernelspec": {
   "display_name": "Python 3 (ipykernel)",
   "language": "python",
   "name": "python3"
  },
  "language_info": {
   "codemirror_mode": {
    "name": "ipython",
    "version": 3
   },
   "file_extension": ".py",
   "mimetype": "text/x-python",
   "name": "python",
   "nbconvert_exporter": "python",
   "pygments_lexer": "ipython3",
   "version": "3.8.10"
  },
  "toc": {
   "base_numbering": 1,
   "nav_menu": {
    "height": "734px",
    "width": "465px"
   },
   "number_sections": true,
   "sideBar": true,
   "skip_h1_title": false,
   "title_cell": "Table of Contents",
   "title_sidebar": "Contents",
   "toc_cell": false,
   "toc_position": {},
   "toc_section_display": true,
   "toc_window_display": false
  }
 },
 "nbformat": 4,
 "nbformat_minor": 2
}
