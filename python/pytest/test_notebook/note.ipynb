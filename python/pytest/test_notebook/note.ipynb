{
 "cells": [
  {
   "cell_type": "markdown",
   "metadata": {},
   "source": [
    "# A sample notebook to be imported in pytest\n",
    "\n",
    "An illustration of a workaround for including an entire notebook in a pytest program.\n",
    "In practical applications of such a case, it might not be desirable to e.g. generate heavy datatables every single time, \n",
    "but just use previously generated data for the purpose of the tests. While the notebook under development could set the `writeData` flag to any value, here we check if the notebook is being run standalone or via `pytest`. In the latter case, the flag is reset such that data will not be regenerated."
   ]
  },
  {
   "cell_type": "code",
   "execution_count": 1,
   "metadata": {},
   "outputs": [
    {
     "name": "stdout",
     "output_type": "stream",
     "text": [
      "Not a test run, will use writeData value given in notebook: True\n"
     ]
    }
   ],
   "source": [
    "writeData = True  #Default value for non-test runs\n",
    "\n",
    "#Determine if the notebook is run by pytest or standalone:\n",
    "#The pytest file will write and subsequently erase a file called testRun.txt -- if this exists, pytest must be running\n",
    "try:\n",
    "    f = open('testRun.txt',\"r\")\n",
    "    f.close()\n",
    "    print('Forcing writeData=False for test run')\n",
    "    writeData = False\n",
    "except: print('Not a test run, will use writeData value given in notebook:',writeData)"
   ]
  },
  {
   "cell_type": "code",
   "execution_count": 2,
   "metadata": {},
   "outputs": [
    {
     "name": "stdout",
     "output_type": "stream",
     "text": [
      "Writing new data file\n"
     ]
    }
   ],
   "source": [
    "if writeData:\n",
    "    print('Writing new data file')\n",
    "    writedata = [[x,y] for x in range(2) for y in range(10)]\n",
    "    f = open('data.dat',\"w\")\n",
    "    for xy in writedata:\n",
    "        f.write(str(xy[0])+\"  \"+str(xy[-1])+'\\n')\n",
    "    f.close\n",
    "else:\n",
    "    print('Not writing data, reading previous instead')"
   ]
  },
  {
   "cell_type": "code",
   "execution_count": 3,
   "metadata": {},
   "outputs": [
    {
     "name": "stdout",
     "output_type": "stream",
     "text": [
      "[[0, 0], [0, 1], [0, 2], [0, 3], [0, 4], [0, 5], [0, 6], [0, 7], [0, 8], [0, 9], [1, 0], [1, 1], [1, 2], [1, 3], [1, 4], [1, 5], [1, 6], [1, 7], [1, 8], [1, 9]]\n"
     ]
    }
   ],
   "source": [
    "#At this point, the data will be found from a file in any case, either previous or new \n",
    "f = open('data.dat',\"r\")\n",
    "data=[]\n",
    "for line in f.readlines():\n",
    "    data.append([int(val) for val in line.split()])\n",
    "print(data)"
   ]
  },
  {
   "cell_type": "code",
   "execution_count": null,
   "metadata": {},
   "outputs": [],
   "source": []
  }
 ],
 "metadata": {
  "kernelspec": {
   "display_name": "Python 3 (ipykernel)",
   "language": "python",
   "name": "python3"
  },
  "language_info": {
   "codemirror_mode": {
    "name": "ipython",
    "version": 3
   },
   "file_extension": ".py",
   "mimetype": "text/x-python",
   "name": "python",
   "nbconvert_exporter": "python",
   "pygments_lexer": "ipython3",
   "version": "3.10.12"
  },
  "toc": {
   "base_numbering": 1,
   "nav_menu": {
    "height": "734px",
    "width": "465px"
   },
   "number_sections": true,
   "sideBar": true,
   "skip_h1_title": false,
   "title_cell": "Table of Contents",
   "title_sidebar": "Contents",
   "toc_cell": false,
   "toc_position": {},
   "toc_section_display": true,
   "toc_window_display": false
  }
 },
 "nbformat": 4,
 "nbformat_minor": 4
}
